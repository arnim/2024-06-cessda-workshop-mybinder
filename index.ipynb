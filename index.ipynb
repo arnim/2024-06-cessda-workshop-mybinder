{
 "cells": [
  {
   "cell_type": "markdown",
   "metadata": {},
   "source": [
    "# Workshop IV: From MyBinder to JupyterHub"
   ]
  },
  {
   "cell_type": "code",
   "execution_count": null,
   "metadata": {},
   "outputs": [],
   "source": [
    "years = [\n",
    "    1999,\n",
    "    2000,\n",
    "    2001,\n",
    "    2002,\n",
    "    2003,\n",
    "    2004,\n",
    "    2005,\n",
    "    2006,\n",
    "    2007,\n",
    "    2008,\n",
    "    2009,\n",
    "    2010,\n",
    "    2011,\n",
    "    2012,\n",
    "    2013,\n",
    "    2014,\n",
    "    2015,\n",
    "    2016\n",
    "]"
   ]
  },
  {
   "cell_type": "code",
   "execution_count": null,
   "metadata": {},
   "outputs": [],
   "source": [
    "# From https://www.wikidata.org/wiki/Q224\n",
    "life_expectancy = [\n",
    "    72.64195,\n",
    "    72.8078,\n",
    "    74.51293,\n",
    "    74.71732,\n",
    "    74.6139,\n",
    "    75.52024,\n",
    "    75.24463,\n",
    "    75.83683,\n",
    "    75.70561,\n",
    "    75.9122,\n",
    "    76.16829,\n",
    "    76.47561,\n",
    "    76.77561,\n",
    "    76.92439,\n",
    "    77.12683,\n",
    "    77.47805,\n",
    "    77.27561,\n",
    "    78.02195\n",
    "]"
   ]
  },
  {
   "cell_type": "code",
   "execution_count": null,
   "metadata": {},
   "outputs": [],
   "source": [
    "assert len(years) == len(life_expectancy)"
   ]
  },
  {
   "cell_type": "code",
   "execution_count": null,
   "metadata": {},
   "outputs": [],
   "source": [
    "import matplotlib.pyplot as plt"
   ]
  },
  {
   "cell_type": "code",
   "execution_count": null,
   "metadata": {},
   "outputs": [],
   "source": [
    "plt.plot(years, life_expectancy)"
   ]
  }
 ],
 "metadata": {
  "kernelspec": {
   "display_name": "Python 3",
   "language": "python",
   "name": "python3"
  },
  "language_info": {
   "codemirror_mode": {
    "name": "ipython",
    "version": 3
   },
   "file_extension": ".py",
   "mimetype": "text/x-python",
   "name": "python",
   "nbconvert_exporter": "python",
   "pygments_lexer": "ipython3",
   "version": "3.10.12"
  },
  "orig_nbformat": 4
 },
 "nbformat": 4,
 "nbformat_minor": 2
}
